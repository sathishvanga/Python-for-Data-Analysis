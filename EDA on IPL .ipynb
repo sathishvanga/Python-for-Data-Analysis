{
 "cells": [
  {
   "cell_type": "markdown",
   "id": "b8f7a0bf",
   "metadata": {},
   "source": [
    "### Importing the Libraries"
   ]
  },
  {
   "cell_type": "code",
   "execution_count": 1,
   "id": "2cb139db",
   "metadata": {},
   "outputs": [],
   "source": [
    "import pandas as pd\n",
    "import numpy as np"
   ]
  },
  {
   "cell_type": "code",
   "execution_count": 4,
   "id": "1ace2e19",
   "metadata": {},
   "outputs": [],
   "source": [
    "df1= pd.read_csv(r\"C:\\Users\\sathi\\Downloads\\deliveries.csv\")"
   ]
  },
  {
   "cell_type": "code",
   "execution_count": 6,
   "id": "4d111b74",
   "metadata": {},
   "outputs": [],
   "source": [
    "df2 = pd.read_csv(r\"C:\\Users\\sathi\\Downloads\\matches.csv\")"
   ]
  },
  {
   "cell_type": "code",
   "execution_count": 12,
   "id": "ad235970",
   "metadata": {},
   "outputs": [
    {
     "data": {
      "text/html": [
       "<div>\n",
       "<style scoped>\n",
       "    .dataframe tbody tr th:only-of-type {\n",
       "        vertical-align: middle;\n",
       "    }\n",
       "\n",
       "    .dataframe tbody tr th {\n",
       "        vertical-align: top;\n",
       "    }\n",
       "\n",
       "    .dataframe thead th {\n",
       "        text-align: right;\n",
       "    }\n",
       "</style>\n",
       "<table border=\"1\" class=\"dataframe\">\n",
       "  <thead>\n",
       "    <tr style=\"text-align: right;\">\n",
       "      <th></th>\n",
       "      <th>match_id</th>\n",
       "      <th>inning</th>\n",
       "      <th>batting_team</th>\n",
       "      <th>bowling_team</th>\n",
       "      <th>over</th>\n",
       "      <th>ball</th>\n",
       "      <th>batsman</th>\n",
       "      <th>non_striker</th>\n",
       "      <th>bowler</th>\n",
       "      <th>is_super_over</th>\n",
       "      <th>...</th>\n",
       "      <th>bye_runs</th>\n",
       "      <th>legbye_runs</th>\n",
       "      <th>noball_runs</th>\n",
       "      <th>penalty_runs</th>\n",
       "      <th>batsman_runs</th>\n",
       "      <th>extra_runs</th>\n",
       "      <th>total_runs</th>\n",
       "      <th>player_dismissed</th>\n",
       "      <th>dismissal_kind</th>\n",
       "      <th>fielder</th>\n",
       "    </tr>\n",
       "  </thead>\n",
       "  <tbody>\n",
       "    <tr>\n",
       "      <th>0</th>\n",
       "      <td>1</td>\n",
       "      <td>1</td>\n",
       "      <td>Sunrisers Hyderabad</td>\n",
       "      <td>Royal Challengers Bangalore</td>\n",
       "      <td>1</td>\n",
       "      <td>1</td>\n",
       "      <td>DA Warner</td>\n",
       "      <td>S Dhawan</td>\n",
       "      <td>TS Mills</td>\n",
       "      <td>0</td>\n",
       "      <td>...</td>\n",
       "      <td>0</td>\n",
       "      <td>0</td>\n",
       "      <td>0</td>\n",
       "      <td>0</td>\n",
       "      <td>0</td>\n",
       "      <td>0</td>\n",
       "      <td>0</td>\n",
       "      <td>NaN</td>\n",
       "      <td>NaN</td>\n",
       "      <td>NaN</td>\n",
       "    </tr>\n",
       "    <tr>\n",
       "      <th>1</th>\n",
       "      <td>1</td>\n",
       "      <td>1</td>\n",
       "      <td>Sunrisers Hyderabad</td>\n",
       "      <td>Royal Challengers Bangalore</td>\n",
       "      <td>1</td>\n",
       "      <td>2</td>\n",
       "      <td>DA Warner</td>\n",
       "      <td>S Dhawan</td>\n",
       "      <td>TS Mills</td>\n",
       "      <td>0</td>\n",
       "      <td>...</td>\n",
       "      <td>0</td>\n",
       "      <td>0</td>\n",
       "      <td>0</td>\n",
       "      <td>0</td>\n",
       "      <td>0</td>\n",
       "      <td>0</td>\n",
       "      <td>0</td>\n",
       "      <td>NaN</td>\n",
       "      <td>NaN</td>\n",
       "      <td>NaN</td>\n",
       "    </tr>\n",
       "    <tr>\n",
       "      <th>2</th>\n",
       "      <td>1</td>\n",
       "      <td>1</td>\n",
       "      <td>Sunrisers Hyderabad</td>\n",
       "      <td>Royal Challengers Bangalore</td>\n",
       "      <td>1</td>\n",
       "      <td>3</td>\n",
       "      <td>DA Warner</td>\n",
       "      <td>S Dhawan</td>\n",
       "      <td>TS Mills</td>\n",
       "      <td>0</td>\n",
       "      <td>...</td>\n",
       "      <td>0</td>\n",
       "      <td>0</td>\n",
       "      <td>0</td>\n",
       "      <td>0</td>\n",
       "      <td>4</td>\n",
       "      <td>0</td>\n",
       "      <td>4</td>\n",
       "      <td>NaN</td>\n",
       "      <td>NaN</td>\n",
       "      <td>NaN</td>\n",
       "    </tr>\n",
       "    <tr>\n",
       "      <th>3</th>\n",
       "      <td>1</td>\n",
       "      <td>1</td>\n",
       "      <td>Sunrisers Hyderabad</td>\n",
       "      <td>Royal Challengers Bangalore</td>\n",
       "      <td>1</td>\n",
       "      <td>4</td>\n",
       "      <td>DA Warner</td>\n",
       "      <td>S Dhawan</td>\n",
       "      <td>TS Mills</td>\n",
       "      <td>0</td>\n",
       "      <td>...</td>\n",
       "      <td>0</td>\n",
       "      <td>0</td>\n",
       "      <td>0</td>\n",
       "      <td>0</td>\n",
       "      <td>0</td>\n",
       "      <td>0</td>\n",
       "      <td>0</td>\n",
       "      <td>NaN</td>\n",
       "      <td>NaN</td>\n",
       "      <td>NaN</td>\n",
       "    </tr>\n",
       "    <tr>\n",
       "      <th>4</th>\n",
       "      <td>1</td>\n",
       "      <td>1</td>\n",
       "      <td>Sunrisers Hyderabad</td>\n",
       "      <td>Royal Challengers Bangalore</td>\n",
       "      <td>1</td>\n",
       "      <td>5</td>\n",
       "      <td>DA Warner</td>\n",
       "      <td>S Dhawan</td>\n",
       "      <td>TS Mills</td>\n",
       "      <td>0</td>\n",
       "      <td>...</td>\n",
       "      <td>0</td>\n",
       "      <td>0</td>\n",
       "      <td>0</td>\n",
       "      <td>0</td>\n",
       "      <td>0</td>\n",
       "      <td>2</td>\n",
       "      <td>2</td>\n",
       "      <td>NaN</td>\n",
       "      <td>NaN</td>\n",
       "      <td>NaN</td>\n",
       "    </tr>\n",
       "    <tr>\n",
       "      <th>5</th>\n",
       "      <td>1</td>\n",
       "      <td>1</td>\n",
       "      <td>Sunrisers Hyderabad</td>\n",
       "      <td>Royal Challengers Bangalore</td>\n",
       "      <td>1</td>\n",
       "      <td>6</td>\n",
       "      <td>S Dhawan</td>\n",
       "      <td>DA Warner</td>\n",
       "      <td>TS Mills</td>\n",
       "      <td>0</td>\n",
       "      <td>...</td>\n",
       "      <td>0</td>\n",
       "      <td>0</td>\n",
       "      <td>0</td>\n",
       "      <td>0</td>\n",
       "      <td>0</td>\n",
       "      <td>0</td>\n",
       "      <td>0</td>\n",
       "      <td>NaN</td>\n",
       "      <td>NaN</td>\n",
       "      <td>NaN</td>\n",
       "    </tr>\n",
       "    <tr>\n",
       "      <th>6</th>\n",
       "      <td>1</td>\n",
       "      <td>1</td>\n",
       "      <td>Sunrisers Hyderabad</td>\n",
       "      <td>Royal Challengers Bangalore</td>\n",
       "      <td>1</td>\n",
       "      <td>7</td>\n",
       "      <td>S Dhawan</td>\n",
       "      <td>DA Warner</td>\n",
       "      <td>TS Mills</td>\n",
       "      <td>0</td>\n",
       "      <td>...</td>\n",
       "      <td>0</td>\n",
       "      <td>1</td>\n",
       "      <td>0</td>\n",
       "      <td>0</td>\n",
       "      <td>0</td>\n",
       "      <td>1</td>\n",
       "      <td>1</td>\n",
       "      <td>NaN</td>\n",
       "      <td>NaN</td>\n",
       "      <td>NaN</td>\n",
       "    </tr>\n",
       "    <tr>\n",
       "      <th>7</th>\n",
       "      <td>1</td>\n",
       "      <td>1</td>\n",
       "      <td>Sunrisers Hyderabad</td>\n",
       "      <td>Royal Challengers Bangalore</td>\n",
       "      <td>2</td>\n",
       "      <td>1</td>\n",
       "      <td>S Dhawan</td>\n",
       "      <td>DA Warner</td>\n",
       "      <td>A Choudhary</td>\n",
       "      <td>0</td>\n",
       "      <td>...</td>\n",
       "      <td>0</td>\n",
       "      <td>0</td>\n",
       "      <td>0</td>\n",
       "      <td>0</td>\n",
       "      <td>1</td>\n",
       "      <td>0</td>\n",
       "      <td>1</td>\n",
       "      <td>NaN</td>\n",
       "      <td>NaN</td>\n",
       "      <td>NaN</td>\n",
       "    </tr>\n",
       "    <tr>\n",
       "      <th>8</th>\n",
       "      <td>1</td>\n",
       "      <td>1</td>\n",
       "      <td>Sunrisers Hyderabad</td>\n",
       "      <td>Royal Challengers Bangalore</td>\n",
       "      <td>2</td>\n",
       "      <td>2</td>\n",
       "      <td>DA Warner</td>\n",
       "      <td>S Dhawan</td>\n",
       "      <td>A Choudhary</td>\n",
       "      <td>0</td>\n",
       "      <td>...</td>\n",
       "      <td>0</td>\n",
       "      <td>0</td>\n",
       "      <td>0</td>\n",
       "      <td>0</td>\n",
       "      <td>4</td>\n",
       "      <td>0</td>\n",
       "      <td>4</td>\n",
       "      <td>NaN</td>\n",
       "      <td>NaN</td>\n",
       "      <td>NaN</td>\n",
       "    </tr>\n",
       "    <tr>\n",
       "      <th>9</th>\n",
       "      <td>1</td>\n",
       "      <td>1</td>\n",
       "      <td>Sunrisers Hyderabad</td>\n",
       "      <td>Royal Challengers Bangalore</td>\n",
       "      <td>2</td>\n",
       "      <td>3</td>\n",
       "      <td>DA Warner</td>\n",
       "      <td>S Dhawan</td>\n",
       "      <td>A Choudhary</td>\n",
       "      <td>0</td>\n",
       "      <td>...</td>\n",
       "      <td>0</td>\n",
       "      <td>0</td>\n",
       "      <td>1</td>\n",
       "      <td>0</td>\n",
       "      <td>0</td>\n",
       "      <td>1</td>\n",
       "      <td>1</td>\n",
       "      <td>NaN</td>\n",
       "      <td>NaN</td>\n",
       "      <td>NaN</td>\n",
       "    </tr>\n",
       "  </tbody>\n",
       "</table>\n",
       "<p>10 rows × 21 columns</p>\n",
       "</div>"
      ],
      "text/plain": [
       "   match_id  inning         batting_team                 bowling_team  over  \\\n",
       "0         1       1  Sunrisers Hyderabad  Royal Challengers Bangalore     1   \n",
       "1         1       1  Sunrisers Hyderabad  Royal Challengers Bangalore     1   \n",
       "2         1       1  Sunrisers Hyderabad  Royal Challengers Bangalore     1   \n",
       "3         1       1  Sunrisers Hyderabad  Royal Challengers Bangalore     1   \n",
       "4         1       1  Sunrisers Hyderabad  Royal Challengers Bangalore     1   \n",
       "5         1       1  Sunrisers Hyderabad  Royal Challengers Bangalore     1   \n",
       "6         1       1  Sunrisers Hyderabad  Royal Challengers Bangalore     1   \n",
       "7         1       1  Sunrisers Hyderabad  Royal Challengers Bangalore     2   \n",
       "8         1       1  Sunrisers Hyderabad  Royal Challengers Bangalore     2   \n",
       "9         1       1  Sunrisers Hyderabad  Royal Challengers Bangalore     2   \n",
       "\n",
       "   ball    batsman non_striker       bowler  is_super_over  ...  bye_runs  \\\n",
       "0     1  DA Warner    S Dhawan     TS Mills              0  ...         0   \n",
       "1     2  DA Warner    S Dhawan     TS Mills              0  ...         0   \n",
       "2     3  DA Warner    S Dhawan     TS Mills              0  ...         0   \n",
       "3     4  DA Warner    S Dhawan     TS Mills              0  ...         0   \n",
       "4     5  DA Warner    S Dhawan     TS Mills              0  ...         0   \n",
       "5     6   S Dhawan   DA Warner     TS Mills              0  ...         0   \n",
       "6     7   S Dhawan   DA Warner     TS Mills              0  ...         0   \n",
       "7     1   S Dhawan   DA Warner  A Choudhary              0  ...         0   \n",
       "8     2  DA Warner    S Dhawan  A Choudhary              0  ...         0   \n",
       "9     3  DA Warner    S Dhawan  A Choudhary              0  ...         0   \n",
       "\n",
       "   legbye_runs  noball_runs  penalty_runs  batsman_runs  extra_runs  \\\n",
       "0            0            0             0             0           0   \n",
       "1            0            0             0             0           0   \n",
       "2            0            0             0             4           0   \n",
       "3            0            0             0             0           0   \n",
       "4            0            0             0             0           2   \n",
       "5            0            0             0             0           0   \n",
       "6            1            0             0             0           1   \n",
       "7            0            0             0             1           0   \n",
       "8            0            0             0             4           0   \n",
       "9            0            1             0             0           1   \n",
       "\n",
       "   total_runs  player_dismissed dismissal_kind fielder  \n",
       "0           0               NaN            NaN     NaN  \n",
       "1           0               NaN            NaN     NaN  \n",
       "2           4               NaN            NaN     NaN  \n",
       "3           0               NaN            NaN     NaN  \n",
       "4           2               NaN            NaN     NaN  \n",
       "5           0               NaN            NaN     NaN  \n",
       "6           1               NaN            NaN     NaN  \n",
       "7           1               NaN            NaN     NaN  \n",
       "8           4               NaN            NaN     NaN  \n",
       "9           1               NaN            NaN     NaN  \n",
       "\n",
       "[10 rows x 21 columns]"
      ]
     },
     "execution_count": 12,
     "metadata": {},
     "output_type": "execute_result"
    }
   ],
   "source": [
    "df1.head(10)"
   ]
  },
  {
   "cell_type": "code",
   "execution_count": 8,
   "id": "577ac33a",
   "metadata": {},
   "outputs": [
    {
     "data": {
      "text/html": [
       "<div>\n",
       "<style scoped>\n",
       "    .dataframe tbody tr th:only-of-type {\n",
       "        vertical-align: middle;\n",
       "    }\n",
       "\n",
       "    .dataframe tbody tr th {\n",
       "        vertical-align: top;\n",
       "    }\n",
       "\n",
       "    .dataframe thead th {\n",
       "        text-align: right;\n",
       "    }\n",
       "</style>\n",
       "<table border=\"1\" class=\"dataframe\">\n",
       "  <thead>\n",
       "    <tr style=\"text-align: right;\">\n",
       "      <th></th>\n",
       "      <th>id</th>\n",
       "      <th>season</th>\n",
       "      <th>city</th>\n",
       "      <th>date</th>\n",
       "      <th>team1</th>\n",
       "      <th>team2</th>\n",
       "      <th>toss_winner</th>\n",
       "      <th>toss_decision</th>\n",
       "      <th>result</th>\n",
       "      <th>dl_applied</th>\n",
       "      <th>winner</th>\n",
       "      <th>win_by_runs</th>\n",
       "      <th>win_by_wickets</th>\n",
       "      <th>player_of_match</th>\n",
       "      <th>venue</th>\n",
       "      <th>umpire1</th>\n",
       "      <th>umpire2</th>\n",
       "      <th>umpire3</th>\n",
       "    </tr>\n",
       "  </thead>\n",
       "  <tbody>\n",
       "    <tr>\n",
       "      <th>0</th>\n",
       "      <td>1</td>\n",
       "      <td>2017</td>\n",
       "      <td>Hyderabad</td>\n",
       "      <td>2017-04-05</td>\n",
       "      <td>Sunrisers Hyderabad</td>\n",
       "      <td>Royal Challengers Bangalore</td>\n",
       "      <td>Royal Challengers Bangalore</td>\n",
       "      <td>field</td>\n",
       "      <td>normal</td>\n",
       "      <td>0</td>\n",
       "      <td>Sunrisers Hyderabad</td>\n",
       "      <td>35</td>\n",
       "      <td>0</td>\n",
       "      <td>Yuvraj Singh</td>\n",
       "      <td>Rajiv Gandhi International Stadium, Uppal</td>\n",
       "      <td>AY Dandekar</td>\n",
       "      <td>NJ Llong</td>\n",
       "      <td>NaN</td>\n",
       "    </tr>\n",
       "    <tr>\n",
       "      <th>1</th>\n",
       "      <td>2</td>\n",
       "      <td>2017</td>\n",
       "      <td>Pune</td>\n",
       "      <td>2017-04-06</td>\n",
       "      <td>Mumbai Indians</td>\n",
       "      <td>Rising Pune Supergiant</td>\n",
       "      <td>Rising Pune Supergiant</td>\n",
       "      <td>field</td>\n",
       "      <td>normal</td>\n",
       "      <td>0</td>\n",
       "      <td>Rising Pune Supergiant</td>\n",
       "      <td>0</td>\n",
       "      <td>7</td>\n",
       "      <td>SPD Smith</td>\n",
       "      <td>Maharashtra Cricket Association Stadium</td>\n",
       "      <td>A Nand Kishore</td>\n",
       "      <td>S Ravi</td>\n",
       "      <td>NaN</td>\n",
       "    </tr>\n",
       "    <tr>\n",
       "      <th>2</th>\n",
       "      <td>3</td>\n",
       "      <td>2017</td>\n",
       "      <td>Rajkot</td>\n",
       "      <td>2017-04-07</td>\n",
       "      <td>Gujarat Lions</td>\n",
       "      <td>Kolkata Knight Riders</td>\n",
       "      <td>Kolkata Knight Riders</td>\n",
       "      <td>field</td>\n",
       "      <td>normal</td>\n",
       "      <td>0</td>\n",
       "      <td>Kolkata Knight Riders</td>\n",
       "      <td>0</td>\n",
       "      <td>10</td>\n",
       "      <td>CA Lynn</td>\n",
       "      <td>Saurashtra Cricket Association Stadium</td>\n",
       "      <td>Nitin Menon</td>\n",
       "      <td>CK Nandan</td>\n",
       "      <td>NaN</td>\n",
       "    </tr>\n",
       "    <tr>\n",
       "      <th>3</th>\n",
       "      <td>4</td>\n",
       "      <td>2017</td>\n",
       "      <td>Indore</td>\n",
       "      <td>2017-04-08</td>\n",
       "      <td>Rising Pune Supergiant</td>\n",
       "      <td>Kings XI Punjab</td>\n",
       "      <td>Kings XI Punjab</td>\n",
       "      <td>field</td>\n",
       "      <td>normal</td>\n",
       "      <td>0</td>\n",
       "      <td>Kings XI Punjab</td>\n",
       "      <td>0</td>\n",
       "      <td>6</td>\n",
       "      <td>GJ Maxwell</td>\n",
       "      <td>Holkar Cricket Stadium</td>\n",
       "      <td>AK Chaudhary</td>\n",
       "      <td>C Shamshuddin</td>\n",
       "      <td>NaN</td>\n",
       "    </tr>\n",
       "    <tr>\n",
       "      <th>4</th>\n",
       "      <td>5</td>\n",
       "      <td>2017</td>\n",
       "      <td>Bangalore</td>\n",
       "      <td>2017-04-08</td>\n",
       "      <td>Royal Challengers Bangalore</td>\n",
       "      <td>Delhi Daredevils</td>\n",
       "      <td>Royal Challengers Bangalore</td>\n",
       "      <td>bat</td>\n",
       "      <td>normal</td>\n",
       "      <td>0</td>\n",
       "      <td>Royal Challengers Bangalore</td>\n",
       "      <td>15</td>\n",
       "      <td>0</td>\n",
       "      <td>KM Jadhav</td>\n",
       "      <td>M Chinnaswamy Stadium</td>\n",
       "      <td>NaN</td>\n",
       "      <td>NaN</td>\n",
       "      <td>NaN</td>\n",
       "    </tr>\n",
       "  </tbody>\n",
       "</table>\n",
       "</div>"
      ],
      "text/plain": [
       "   id  season       city        date                        team1  \\\n",
       "0   1    2017  Hyderabad  2017-04-05          Sunrisers Hyderabad   \n",
       "1   2    2017       Pune  2017-04-06               Mumbai Indians   \n",
       "2   3    2017     Rajkot  2017-04-07                Gujarat Lions   \n",
       "3   4    2017     Indore  2017-04-08       Rising Pune Supergiant   \n",
       "4   5    2017  Bangalore  2017-04-08  Royal Challengers Bangalore   \n",
       "\n",
       "                         team2                  toss_winner toss_decision  \\\n",
       "0  Royal Challengers Bangalore  Royal Challengers Bangalore         field   \n",
       "1       Rising Pune Supergiant       Rising Pune Supergiant         field   \n",
       "2        Kolkata Knight Riders        Kolkata Knight Riders         field   \n",
       "3              Kings XI Punjab              Kings XI Punjab         field   \n",
       "4             Delhi Daredevils  Royal Challengers Bangalore           bat   \n",
       "\n",
       "   result  dl_applied                       winner  win_by_runs  \\\n",
       "0  normal           0          Sunrisers Hyderabad           35   \n",
       "1  normal           0       Rising Pune Supergiant            0   \n",
       "2  normal           0        Kolkata Knight Riders            0   \n",
       "3  normal           0              Kings XI Punjab            0   \n",
       "4  normal           0  Royal Challengers Bangalore           15   \n",
       "\n",
       "   win_by_wickets player_of_match                                      venue  \\\n",
       "0               0    Yuvraj Singh  Rajiv Gandhi International Stadium, Uppal   \n",
       "1               7       SPD Smith    Maharashtra Cricket Association Stadium   \n",
       "2              10         CA Lynn     Saurashtra Cricket Association Stadium   \n",
       "3               6      GJ Maxwell                     Holkar Cricket Stadium   \n",
       "4               0       KM Jadhav                      M Chinnaswamy Stadium   \n",
       "\n",
       "          umpire1        umpire2 umpire3  \n",
       "0     AY Dandekar       NJ Llong     NaN  \n",
       "1  A Nand Kishore         S Ravi     NaN  \n",
       "2     Nitin Menon      CK Nandan     NaN  \n",
       "3    AK Chaudhary  C Shamshuddin     NaN  \n",
       "4             NaN            NaN     NaN  "
      ]
     },
     "execution_count": 8,
     "metadata": {},
     "output_type": "execute_result"
    }
   ],
   "source": [
    "df2.head()"
   ]
  },
  {
   "cell_type": "code",
   "execution_count": 9,
   "id": "4bc181d4",
   "metadata": {},
   "outputs": [
    {
     "data": {
      "text/plain": [
       "(179078, 21)"
      ]
     },
     "execution_count": 9,
     "metadata": {},
     "output_type": "execute_result"
    }
   ],
   "source": [
    "df1.shape"
   ]
  },
  {
   "cell_type": "code",
   "execution_count": 10,
   "id": "c5e1284e",
   "metadata": {},
   "outputs": [
    {
     "data": {
      "text/plain": [
       "(756, 18)"
      ]
     },
     "execution_count": 10,
     "metadata": {},
     "output_type": "execute_result"
    }
   ],
   "source": [
    "df2.shape"
   ]
  },
  {
   "cell_type": "code",
   "execution_count": null,
   "id": "7ff8568f",
   "metadata": {},
   "outputs": [],
   "source": []
  },
  {
   "cell_type": "markdown",
   "id": "54caeb6e",
   "metadata": {},
   "source": [
    "### 2.The column which has the most missing values according to the data is"
   ]
  },
  {
   "cell_type": "code",
   "execution_count": 14,
   "id": "deb8d5a8",
   "metadata": {},
   "outputs": [
    {
     "data": {
      "text/plain": [
       "match_id                 0\n",
       "inning                   0\n",
       "batting_team             0\n",
       "bowling_team             0\n",
       "over                     0\n",
       "ball                     0\n",
       "batsman                  0\n",
       "non_striker              0\n",
       "bowler                   0\n",
       "is_super_over            0\n",
       "wide_runs                0\n",
       "bye_runs                 0\n",
       "legbye_runs              0\n",
       "noball_runs              0\n",
       "penalty_runs             0\n",
       "batsman_runs             0\n",
       "extra_runs               0\n",
       "total_runs               0\n",
       "player_dismissed    170244\n",
       "dismissal_kind      170244\n",
       "fielder             172630\n",
       "dtype: int64"
      ]
     },
     "execution_count": 14,
     "metadata": {},
     "output_type": "execute_result"
    }
   ],
   "source": [
    "df1.isnull().sum()"
   ]
  },
  {
   "cell_type": "code",
   "execution_count": 16,
   "id": "87c31993",
   "metadata": {},
   "outputs": [
    {
     "data": {
      "text/plain": [
       "id                   0\n",
       "season               0\n",
       "city                 7\n",
       "date                 0\n",
       "team1                0\n",
       "team2                0\n",
       "toss_winner          0\n",
       "toss_decision        0\n",
       "result               0\n",
       "dl_applied           0\n",
       "winner               4\n",
       "win_by_runs          0\n",
       "win_by_wickets       0\n",
       "player_of_match      4\n",
       "venue                0\n",
       "umpire1              2\n",
       "umpire2              2\n",
       "umpire3            637\n",
       "dtype: int64"
      ]
     },
     "execution_count": 16,
     "metadata": {},
     "output_type": "execute_result"
    }
   ],
   "source": [
    "df2.isnull().sum()"
   ]
  },
  {
   "cell_type": "code",
   "execution_count": 73,
   "id": "cf97bba4",
   "metadata": {},
   "outputs": [],
   "source": [
    "df2[\"city\"] = df2['city'].fillna(df2[\"city\"].mode()[0])"
   ]
  },
  {
   "cell_type": "code",
   "execution_count": 78,
   "id": "949bea01",
   "metadata": {},
   "outputs": [],
   "source": [
    "df2['winner'].fillna(\"draw\",inplace=True)"
   ]
  },
  {
   "cell_type": "code",
   "execution_count": 81,
   "id": "a399e059",
   "metadata": {},
   "outputs": [],
   "source": [
    "df2[\"player_of_match\"].fillna(\"no result\",inplace=True)"
   ]
  },
  {
   "cell_type": "code",
   "execution_count": 90,
   "id": "bf9a243d",
   "metadata": {},
   "outputs": [],
   "source": [
    "df2[\"umpire1\"].fillna(df2[\"umpire1\"].mode()[0],inplace=True)"
   ]
  },
  {
   "cell_type": "code",
   "execution_count": 91,
   "id": "03a730de",
   "metadata": {},
   "outputs": [],
   "source": [
    "df2[\"umpire2\"].fillna(df2[\"umpire2\"].mode()[0],inplace=True)"
   ]
  },
  {
   "cell_type": "code",
   "execution_count": 92,
   "id": "c99c3910",
   "metadata": {},
   "outputs": [
    {
     "data": {
      "text/plain": [
       "id                   0\n",
       "season               0\n",
       "city                 0\n",
       "date                 0\n",
       "team1                0\n",
       "team2                0\n",
       "toss_winner          0\n",
       "toss_decision        0\n",
       "result               0\n",
       "dl_applied           0\n",
       "winner               0\n",
       "win_by_runs          0\n",
       "win_by_wickets       0\n",
       "player_of_match      0\n",
       "venue                0\n",
       "umpire1              0\n",
       "umpire2              0\n",
       "umpire3            637\n",
       "dtype: int64"
      ]
     },
     "execution_count": 92,
     "metadata": {},
     "output_type": "execute_result"
    }
   ],
   "source": [
    "df2.isnull().sum()"
   ]
  },
  {
   "cell_type": "code",
   "execution_count": 94,
   "id": "234a8680",
   "metadata": {},
   "outputs": [],
   "source": [
    "df2.drop(\"umpire3\",axis=1,inplace=True)"
   ]
  },
  {
   "cell_type": "code",
   "execution_count": null,
   "id": "900aacbe",
   "metadata": {},
   "outputs": [],
   "source": []
  },
  {
   "cell_type": "code",
   "execution_count": null,
   "id": "edee4011",
   "metadata": {},
   "outputs": [],
   "source": []
  },
  {
   "cell_type": "markdown",
   "id": "367498e5",
   "metadata": {},
   "source": [
    "### 3.City which hosted most number of seasons according to the data is"
   ]
  },
  {
   "cell_type": "code",
   "execution_count": 96,
   "id": "9261fd6b",
   "metadata": {},
   "outputs": [
    {
     "data": {
      "text/plain": [
       "city\n",
       "Mumbai            108\n",
       "Kolkata            77\n",
       "Delhi              74\n",
       "Bangalore          66\n",
       "Hyderabad          64\n",
       "Chennai            57\n",
       "Jaipur             47\n",
       "Chandigarh         46\n",
       "Pune               38\n",
       "Durban             15\n",
       "Bengaluru          14\n",
       "Visakhapatnam      13\n",
       "Centurion          12\n",
       "Ahmedabad          12\n",
       "Rajkot             10\n",
       "Mohali             10\n",
       "Indore              9\n",
       "Dharamsala          9\n",
       "Johannesburg        8\n",
       "Cuttack             7\n",
       "Ranchi              7\n",
       "Port Elizabeth      7\n",
       "Cape Town           7\n",
       "Abu Dhabi           7\n",
       "Sharjah             6\n",
       "Raipur              6\n",
       "Kochi               5\n",
       "Kanpur              4\n",
       "Nagpur              3\n",
       "Kimberley           3\n",
       "East London         3\n",
       "Bloemfontein        2\n",
       "Name: count, dtype: int64"
      ]
     },
     "execution_count": 96,
     "metadata": {},
     "output_type": "execute_result"
    }
   ],
   "source": [
    "df2[\"city\"].value_counts()"
   ]
  },
  {
   "cell_type": "markdown",
   "id": "4db57939",
   "metadata": {},
   "source": [
    "### 4.Which year has the most number of matches played?\n"
   ]
  },
  {
   "cell_type": "code",
   "execution_count": 97,
   "id": "1f2a5e8f",
   "metadata": {},
   "outputs": [
    {
     "data": {
      "text/plain": [
       "season\n",
       "2013    76\n",
       "2012    74\n",
       "2011    73\n",
       "2010    60\n",
       "2014    60\n",
       "2016    60\n",
       "2018    60\n",
       "2019    60\n",
       "2017    59\n",
       "2015    59\n",
       "2008    58\n",
       "2009    57\n",
       "Name: count, dtype: int64"
      ]
     },
     "execution_count": 97,
     "metadata": {},
     "output_type": "execute_result"
    }
   ],
   "source": [
    "df2[\"season\"].value_counts()"
   ]
  },
  {
   "cell_type": "markdown",
   "id": "27cd5b0d",
   "metadata": {},
   "source": [
    "### 5.Maximum wins by Mumbai Indians in 2011 are"
   ]
  },
  {
   "cell_type": "code",
   "execution_count": 98,
   "id": "d9e2c976",
   "metadata": {},
   "outputs": [],
   "source": [
    "season_2011 = df2[df2[\"season\"]==2011]"
   ]
  },
  {
   "cell_type": "code",
   "execution_count": 99,
   "id": "272c4e4a",
   "metadata": {},
   "outputs": [
    {
     "data": {
      "text/plain": [
       "10"
      ]
     },
     "execution_count": 99,
     "metadata": {},
     "output_type": "execute_result"
    }
   ],
   "source": [
    "(season_2011[\"winner\"] == \"Mumbai Indians\").sum()"
   ]
  },
  {
   "cell_type": "markdown",
   "id": "5f1c4795",
   "metadata": {},
   "source": [
    "### 6.For 'toss_decision' feature what kind of plot is suitable?"
   ]
  },
  {
   "cell_type": "code",
   "execution_count": 100,
   "id": "67434300",
   "metadata": {},
   "outputs": [
    {
     "data": {
      "text/plain": [
       "<Axes: xlabel='toss_decision'>"
      ]
     },
     "execution_count": 100,
     "metadata": {},
     "output_type": "execute_result"
    },
    {
     "data": {
      "image/png": "[encoded data removed]",
      "text/plain": [
       "<Figure size 640x480 with 1 Axes>"
      ]
     },
     "metadata": {},
     "output_type": "display_data"
    }
   ],
   "source": [
    "df2[\"toss_decision\"].value_counts().plot.bar()"
   ]
  },
  {
   "cell_type": "code",
   "execution_count": 101,
   "id": "3db4d513",
   "metadata": {},
   "outputs": [
    {
     "data": {
      "text/plain": [
       "<Axes: ylabel='count'>"
      ]
     },
     "execution_count": 101,
     "metadata": {},
     "output_type": "execute_result"
    },
    {
     "data": {
      "image/png": "[encoded data removed]",
      "text/plain": [
       "<Figure size 640x480 with 1 Axes>"
      ]
     },
     "metadata": {},
     "output_type": "display_data"
    }
   ],
   "source": [
    "df2[\"toss_decision\"].value_counts().plot.pie()"
   ]
  },
  {
   "cell_type": "markdown",
   "id": "481e43d9",
   "metadata": {},
   "source": [
    "### 7.What is the percentage of getting bat and field in feature 'toss_descision'?"
   ]
  },
  {
   "cell_type": "code",
   "execution_count": 102,
   "id": "9d04b93e",
   "metadata": {},
   "outputs": [
    {
     "data": {
      "text/plain": [
       "<Axes: ylabel='count'>"
      ]
     },
     "execution_count": 102,
     "metadata": {},
     "output_type": "execute_result"
    },
    {
     "data": {
      "image/png": "[encoded data removed]",
      "text/plain": [
       "<Figure size 640x480 with 1 Axes>"
      ]
     },
     "metadata": {},
     "output_type": "display_data"
    }
   ],
   "source": [
    "df2[\"toss_decision\"].value_counts().plot.pie(autopct=\"%1.1f\")"
   ]
  },
  {
   "cell_type": "markdown",
   "id": "7cefa5cc",
   "metadata": {},
   "source": [
    "### 8.Which statement holds true"
   ]
  },
  {
   "cell_type": "code",
   "execution_count": 106,
   "id": "7700656e",
   "metadata": {},
   "outputs": [
    {
     "data": {
      "text/plain": [
       "toss_decision\n",
       "field    463\n",
       "bat      293\n",
       "Name: count, dtype: int64"
      ]
     },
     "execution_count": 106,
     "metadata": {},
     "output_type": "execute_result"
    }
   ],
   "source": [
    "df2[\"toss_decision\"].value_counts()"
   ]
  },
  {
   "cell_type": "code",
   "execution_count": 105,
   "id": "c2336fd9",
   "metadata": {},
   "outputs": [
    {
     "data": {
      "text/plain": [
       "toss_decision\n",
       "bat      293\n",
       "field    463\n",
       "Name: winner, dtype: int64"
      ]
     },
     "execution_count": 105,
     "metadata": {},
     "output_type": "execute_result"
    }
   ],
   "source": [
    "df2.groupby(by=[\"toss_decision\"])[\"winner\"].count()"
   ]
  },
  {
   "cell_type": "markdown",
   "id": "2f4f98cc",
   "metadata": {},
   "source": [
    "### 9.In which years where taking batting second have won more number of matches?"
   ]
  },
  {
   "cell_type": "code",
   "execution_count": 284,
   "id": "805e957b",
   "metadata": {},
   "outputs": [
    {
     "data": {
      "text/plain": [
       "season\n",
       "2016    32\n",
       "2019    31\n",
       "2017    28\n",
       "2011    27\n",
       "2018    27\n",
       "2014    24\n",
       "2008    19\n",
       "2012    18\n",
       "2013    15\n",
       "2009    14\n",
       "2015    14\n",
       "2010    10\n",
       "Name: count, dtype: int64"
      ]
     },
     "execution_count": 284,
     "metadata": {},
     "output_type": "execute_result"
    }
   ],
   "source": [
    "df2[(df2['toss_decision']=='field') & (df2['toss_winner'] == df2['winner'])][\"season\"].value_counts()"
   ]
  },
  {
   "cell_type": "code",
   "execution_count": null,
   "id": "fe5db5e6",
   "metadata": {},
   "outputs": [],
   "source": []
  },
  {
   "cell_type": "code",
   "execution_count": 127,
   "id": "f0cdb1a4",
   "metadata": {},
   "outputs": [
    {
     "data": {
      "text/plain": [
       "match_id                 0\n",
       "season                   0\n",
       "city                  1700\n",
       "date                     0\n",
       "team1                    0\n",
       "team2                    0\n",
       "toss_winner              0\n",
       "toss_decision            0\n",
       "result                   0\n",
       "dl_applied               0\n",
       "winner                 372\n",
       "win_by_runs              0\n",
       "win_by_wickets           0\n",
       "player_of_match        372\n",
       "venue                    0\n",
       "umpire1                500\n",
       "umpire2                500\n",
       "umpire3             150712\n",
       "inning                   0\n",
       "batting_team             0\n",
       "bowling_team             0\n",
       "over                     0\n",
       "ball                     0\n",
       "batsman                  0\n",
       "non_striker              0\n",
       "bowler                   0\n",
       "is_super_over            0\n",
       "wide_runs                0\n",
       "bye_runs                 0\n",
       "legbye_runs              0\n",
       "noball_runs              0\n",
       "penalty_runs             0\n",
       "batsman_runs             0\n",
       "extra_runs               0\n",
       "total_runs               0\n",
       "player_dismissed    170244\n",
       "dismissal_kind      170244\n",
       "fielder             172630\n",
       "dtype: int64"
      ]
     },
     "execution_count": 127,
     "metadata": {},
     "output_type": "execute_result"
    }
   ],
   "source": [
    "\n",
    "df1= pd.read_csv(r\"C:\\Users\\sathi\\Downloads\\deliveries.csv\")\n",
    "\n",
    "df2 = pd.read_csv(r\"C:\\Users\\sathi\\Downloads\\matches.csv\")\n",
    "\n",
    "df2.rename(columns = {'id':'match_id'}, inplace = True)\n",
    "\n",
    "df = pd.merge(df2,df1,on=\"match_id\",how = \"outer\")\n",
    "\n",
    "pd.set_option(\"display.max_columns\",50)\n",
    "\n",
    "pd.set_option(\"display.max_rows\",500)\n",
    "\n",
    "df.isna().sum()"
   ]
  },
  {
   "cell_type": "code",
   "execution_count": 128,
   "id": "09469088",
   "metadata": {},
   "outputs": [
    {
     "data": {
      "text/plain": [
       "match_id                 0\n",
       "season                   0\n",
       "city                     0\n",
       "date                     0\n",
       "team1                    0\n",
       "team2                    0\n",
       "toss_winner              0\n",
       "toss_decision            0\n",
       "result                   0\n",
       "dl_applied               0\n",
       "winner                   0\n",
       "win_by_runs              0\n",
       "win_by_wickets           0\n",
       "player_of_match          0\n",
       "venue                    0\n",
       "umpire1                  0\n",
       "umpire2                  0\n",
       "umpire3             150712\n",
       "inning                   0\n",
       "batting_team             0\n",
       "bowling_team             0\n",
       "over                     0\n",
       "ball                     0\n",
       "batsman                  0\n",
       "non_striker              0\n",
       "bowler                   0\n",
       "is_super_over            0\n",
       "wide_runs                0\n",
       "bye_runs                 0\n",
       "legbye_runs              0\n",
       "noball_runs              0\n",
       "penalty_runs             0\n",
       "batsman_runs             0\n",
       "extra_runs               0\n",
       "total_runs               0\n",
       "player_dismissed    170244\n",
       "dismissal_kind      170244\n",
       "fielder             172630\n",
       "dtype: int64"
      ]
     },
     "execution_count": 128,
     "metadata": {},
     "output_type": "execute_result"
    }
   ],
   "source": [
    "\n",
    "df['city'].fillna(method=\"bfill\",inplace=True)\n",
    "\n",
    "df[\"winner\"].fillna(\"draw\",inplace=True)\n",
    "\n",
    "df[\"player_of_match\"].fillna(\"no result\",inplace=True)\n",
    "\n",
    "df[\"umpire1\"].fillna(df[\"umpire1\"].mode()[0],inplace=True)\n",
    "\n",
    "df[\"umpire2\"].fillna(df[\"umpire2\"].mode()[0],inplace=True)\n",
    "\n",
    "df.isna().sum()"
   ]
  },
  {
   "cell_type": "code",
   "execution_count": 129,
   "id": "57ef5f8b",
   "metadata": {},
   "outputs": [],
   "source": [
    "df.dropna(axis=1,inplace=True)"
   ]
  },
  {
   "cell_type": "markdown",
   "id": "8338b317",
   "metadata": {},
   "source": [
    "### 10.To plot the most consistent batsmen among top 10 run getters, what plotting technique we use?"
   ]
  },
  {
   "cell_type": "code",
   "execution_count": null,
   "id": "9063e340",
   "metadata": {},
   "outputs": [],
   "source": []
  },
  {
   "cell_type": "code",
   "execution_count": null,
   "id": "41f5cd03",
   "metadata": {},
   "outputs": [],
   "source": []
  },
  {
   "cell_type": "markdown",
   "id": "f2deb6cc",
   "metadata": {},
   "source": [
    "### 11. In 2019 which batsman scored highest number of runs by hitting 6's and 4's?"
   ]
  },
  {
   "cell_type": "code",
   "execution_count": 133,
   "id": "80dc72ab",
   "metadata": {},
   "outputs": [],
   "source": [
    "season_2019 = df[df['season']==2019]"
   ]
  },
  {
   "cell_type": "code",
   "execution_count": 174,
   "id": "133140b8",
   "metadata": {},
   "outputs": [],
   "source": [
    "a =season_2019[(season_2019['batsman_runs'] == 6 ) | (season_2019['batsman_runs'] == 4 )]"
   ]
  },
  {
   "cell_type": "code",
   "execution_count": 181,
   "id": "a8ea895f",
   "metadata": {},
   "outputs": [],
   "source": [
    "b = a.groupby(by=\"batsman\")['total_runs'].sum()"
   ]
  },
  {
   "cell_type": "code",
   "execution_count": 186,
   "id": "3f4a94ce",
   "metadata": {},
   "outputs": [
    {
     "data": {
      "text/plain": [
       "batsman\n",
       "AD Russell    442\n",
       "Name: total_runs, dtype: int64"
      ]
     },
     "execution_count": 186,
     "metadata": {},
     "output_type": "execute_result"
    }
   ],
   "source": [
    "b[b == 442]"
   ]
  },
  {
   "cell_type": "markdown",
   "id": "7b9f2876",
   "metadata": {},
   "source": [
    "### 12. Most number of wickets taken by a bowler is\n"
   ]
  },
  {
   "cell_type": "code",
   "execution_count": 235,
   "id": "bd7af93b",
   "metadata": {},
   "outputs": [
    {
     "data": {
      "text/plain": [
       "array([nan, 'caught', 'bowled', 'run out', 'lbw', 'caught and bowled',\n",
       "       'stumped', 'retired hurt', 'hit wicket', 'obstructing the field'],\n",
       "      dtype=object)"
      ]
     },
     "execution_count": 235,
     "metadata": {},
     "output_type": "execute_result"
    }
   ],
   "source": [
    "df1['dismissal_kind'].unique()"
   ]
  },
  {
   "cell_type": "code",
   "execution_count": 244,
   "id": "498bab70",
   "metadata": {},
   "outputs": [],
   "source": [
    "a = df1[(df1['dismissal_kind'] == 'bowled') | (df1['dismissal_kind'] == 'caught')|(df1['dismissal_kind'] == 'lbw')|(df1['dismissal_kind'] == 'caught and bowled')|(df1['dismissal_kind'] == 'stumped')|(df1['dismissal_kind'] == 'hit wicket')]"
   ]
  },
  {
   "cell_type": "code",
   "execution_count": 246,
   "id": "9810a5c3",
   "metadata": {},
   "outputs": [
    {
     "data": {
      "text/plain": [
       "bowler\n",
       "SL Malinga           170\n",
       "A Mishra             156\n",
       "Harbhajan Singh      150\n",
       "PP Chawla            149\n",
       "DJ Bravo             147\n",
       "B Kumar              133\n",
       "R Ashwin             125\n",
       "SP Narine            122\n",
       "UT Yadav             119\n",
       "RA Jadeja            108\n",
       "A Nehra              106\n",
       "R Vinay Kumar        105\n",
       "Z Khan               102\n",
       "YS Chahal            100\n",
       "DW Steyn              96\n",
       "SR Watson             92\n",
       "MM Sharma             91\n",
       "P Kumar               90\n",
       "RP Singh              90\n",
       "PP Ojha               89\n",
       "DS Kulkarni           86\n",
       "JA Morkel             85\n",
       "Sandeep Sharma        83\n",
       "JJ Bumrah             82\n",
       "IK Pathan             80\n",
       "Imran Tahir           79\n",
       "M Morkel              77\n",
       "JD Unadkat            77\n",
       "L Balaji              76\n",
       "MM Patel              74\n",
       "I Sharma              71\n",
       "AR Patel              71\n",
       "R Bhatia              71\n",
       "MJ McClenaghan        71\n",
       "CH Morris             70\n",
       "AB Dinda              69\n",
       "SK Trivedi            65\n",
       "JH Kallis             65\n",
       "M Muralitharan        64\n",
       "MG Johnson            62\n",
       "JP Faulkner           61\n",
       "Shakib Al Hasan       59\n",
       "SK Warne              57\n",
       "KA Pollard            56\n",
       "Rashid Khan           55\n",
       "AD Russell            55\n",
       "KV Sharma             54\n",
       "S Kaul                49\n",
       "SB Jakati             47\n",
       "RJ Harris             45\n",
       "A Kumble              45\n",
       "S Aravind             45\n",
       "HV Patel              43\n",
       "HH Pandya             42\n",
       "VR Aaron              42\n",
       "YK Pathan             42\n",
       "S Nadeem              42\n",
       "R Sharma              40\n",
       "Iqbal Abdulla         40\n",
       "Mohammed Shami        40\n",
       "S Sreesanth           40\n",
       "KH Pandya             39\n",
       "Kuldeep Yadav         39\n",
       "AJ Tye                39\n",
       "P Awana               39\n",
       "MC Henriques          38\n",
       "TA Boult              38\n",
       "S Gopal               38\n",
       "MS Gony               37\n",
       "DE Bollinger          37\n",
       "Yuvraj Singh          36\n",
       "NM Coulter-Nile       36\n",
       "SN Thakur             36\n",
       "PJ Sangwan            35\n",
       "DT Christian          34\n",
       "P Negi                34\n",
       "MA Starc              34\n",
       "KK Cooper             33\n",
       "DL Chahar             33\n",
       "K Rabada              31\n",
       "M Kartik              31\n",
       "A Singh               31\n",
       "NLTC Perera           31\n",
       "Azhar Mahmood         29\n",
       "AB Agarkar            29\n",
       "DL Vettori            28\n",
       "PV Tambe              28\n",
       "DP Nannes             28\n",
       "Mohammed Siraj        28\n",
       "TG Southee            28\n",
       "AD Mathews            27\n",
       "MF Maharoof           27\n",
       "Harmeet Singh         26\n",
       "WD Parnell            26\n",
       "BA Stokes             26\n",
       "DR Smith              26\n",
       "J Archer              26\n",
       "J Botha               25\n",
       "CR Woakes             25\n",
       "SK Raina              25\n",
       "B Lee                 25\n",
       "Mustafizur Rahman     24\n",
       "JP Duminy             23\n",
       "GB Hogg               23\n",
       "SW Tait               23\n",
       "BW Hilfenhaus         22\n",
       "STR Binny             22\n",
       "Sohail Tanvir         22\n",
       "AS Rajpoot            22\n",
       "RE van der Merwe      21\n",
       "VY Mahesh             21\n",
       "A Symonds             20\n",
       "MR Marsh              20\n",
       "K Ahmed               19\n",
       "AD Mascarenhas        19\n",
       "A Zampa               19\n",
       "BB Sran               18\n",
       "R Dhawan              18\n",
       "KW Richardson         18\n",
       "CH Gayle              18\n",
       "A Ashish Reddy        18\n",
       "IC Pandey             18\n",
       "WPUJC Vaas            18\n",
       "Anureet Singh         18\n",
       "BJ Hodge              17\n",
       "Bipul Sharma          17\n",
       "M Ur Rahman           17\n",
       "PJ Cummins            17\n",
       "CRD Fernando          17\n",
       "GJ Maxwell            16\n",
       "M Markande            16\n",
       "Washington Sundar     16\n",
       "R Rampaul             16\n",
       "D Wiese               16\n",
       "Basil Thampi          16\n",
       "YA Abdulla            15\n",
       "RD Chahar             15\n",
       "LR Shukla             15\n",
       "RG Sharma             15\n",
       "MP Stoinis            15\n",
       "M Ashwin              15\n",
       "SJ Srivastava         14\n",
       "JR Hopes              14\n",
       "P Krishna             14\n",
       "AC Thomas             14\n",
       "S Lamichhane          13\n",
       "CK Langeveldt         13\n",
       "CR Brathwaite         13\n",
       "R Tewatia             13\n",
       "RR Powar              13\n",
       "ST Jayasuriya         13\n",
       "Ankit Sharma          13\n",
       "Karanveer Singh       12\n",
       "CJ Jordan             12\n",
       "BA Bhatt              12\n",
       "Joginder Sharma       12\n",
       "GD McGrath            12\n",
       "VRV Singh             12\n",
       "S Sharma              12\n",
       "Umar Gul              12\n",
       "J Suchith             12\n",
       "AN Ahmed              12\n",
       "R McLaren             12\n",
       "J Theron              11\n",
       "Pankaj Singh          11\n",
       "RS Bopara             11\n",
       "AB McDonald           11\n",
       "S Badree              11\n",
       "A Chandila            11\n",
       "DJG Sammy             11\n",
       "K Gowtham             11\n",
       "N Saini               11\n",
       "Mohammad Nabi         11\n",
       "SM Pollock            11\n",
       "L Ngidi               11\n",
       "CJ Anderson           11\n",
       "SC Ganguly            10\n",
       "Kamran Khan           10\n",
       "V Pratap Singh        10\n",
       "B Laughlin            10\n",
       "S Curran              10\n",
       "BCJ Cutting           10\n",
       "JEC Franklin           9\n",
       "SE Bond                9\n",
       "Shahid Afridi          9\n",
       "M Ali                  9\n",
       "K Paul                 9\n",
       "SMSM Senanayake        9\n",
       "JDP Oram               9\n",
       "P Parameswaran         9\n",
       "MN Samuels             9\n",
       "AG Murtaza             9\n",
       "I Sodhi                9\n",
       "AM Nayar               9\n",
       "KP Appanna             9\n",
       "BE Hendricks           9\n",
       "AA Chavan              8\n",
       "Anand Rajan            8\n",
       "Mohammad Asif          8\n",
       "J Syed Mohammad        8\n",
       "SB Styris              8\n",
       "KC Cariappa            8\n",
       "DJ Hussey              8\n",
       "JD Ryder               8\n",
       "T Thushara             8\n",
       "BAW Mendis             8\n",
       "H Gurney               7\n",
       "B Stanlake             7\n",
       "PC Valthaty            7\n",
       "H Viljoen              7\n",
       "P Amarnath             7\n",
       "N Rana                 7\n",
       "A Mithun               7\n",
       "M Ntini                7\n",
       "KP Pietersen           7\n",
       "AM Salvi               7\n",
       "B Akhil                6\n",
       "S Randiv               6\n",
       "DJ Hooda               6\n",
       "TL Suman               6\n",
       "S Tyagi                6\n",
       "C de Grandhomme        6\n",
       "A Joseph               6\n",
       "VS Malik               6\n",
       "RR Raje                6\n",
       "Jaskaran Singh         6\n",
       "JE Taylor              6\n",
       "T Curran               6\n",
       "V Sehwag               6\n",
       "S Kaushik              6\n",
       "Y Venugopal Rao        6\n",
       "S Mavi                 5\n",
       "J Behrendorff          5\n",
       "R Shukla               5\n",
       "M de Lange             5\n",
       "JO Holder              5\n",
       "KMDN Kulasekara        5\n",
       "J Yadav                5\n",
       "O Thomas               5\n",
       "Gurkeerat Singh        5\n",
       "A Choudhary            5\n",
       "AP Dole                5\n",
       "PD Collingwood         5\n",
       "TS Mills               5\n",
       "Shoaib Ahmed           5\n",
       "RV Gomez               5\n",
       "Avesh Khan             5\n",
       "FH Edwards             5\n",
       "TM Dilshan             5\n",
       "S Ladda                5\n",
       "S Narwal               5\n",
       "Shoaib Akhtar          5\n",
       "SB Wagh                5\n",
       "Parvez Rasool          4\n",
       "Shivam Sharma          4\n",
       "S Dhawan               4\n",
       "Y Nagar                4\n",
       "DP Vijaykumar          4\n",
       "V Kohli                4\n",
       "SB Bangar              4\n",
       "L Plunkett             4\n",
       "WA Mota                4\n",
       "AF Milne               4\n",
       "M Santner              4\n",
       "D du Preez             4\n",
       "DJ Muthuswami          4\n",
       "AL Menaria             3\n",
       "Gagandeep Singh        3\n",
       "KM Asif                3\n",
       "JW Hastings            3\n",
       "P Sahu                 3\n",
       "K Santokie             3\n",
       "DJ Thornely            3\n",
       "T Shamsi               3\n",
       "JM Kemp                3\n",
       "RJ Peterson            3\n",
       "R Ninan                3\n",
       "R Sathish              3\n",
       "LH Ferguson            3\n",
       "L Ablish               3\n",
       "SM Harwood             3\n",
       "K Khejroliya           3\n",
       "DAJ Bracewell          3\n",
       "JJ van der Wath        3\n",
       "MA Khote               2\n",
       "RN ten Doeschate       2\n",
       "Mohammad Hafeez        2\n",
       "ND Doshi               2\n",
       "TM Head                2\n",
       "Shoaib Malik           2\n",
       "D Kalyankrishna        2\n",
       "DNT Zoysa              2\n",
       "D Willey               2\n",
       "J Searles              2\n",
       "SM Boland              2\n",
       "Sachin Baby            2\n",
       "KJ Abbott              2\n",
       "S Warrier              2\n",
       "MJ Clarke              2\n",
       "A Flintoff             2\n",
       "C Nanda                2\n",
       "R Parag                2\n",
       "LJ Wright              2\n",
       "A Uniyal               2\n",
       "P Suyal                2\n",
       "T Natarajan            2\n",
       "SD Chitnis             2\n",
       "V Shankar              2\n",
       "S Kuggeleijn           2\n",
       "L Ferguson             2\n",
       "Ankit Soni             2\n",
       "SS Mundhe              1\n",
       "Swapnil Singh          1\n",
       "AA Noffke              1\n",
       "NB Singh               1\n",
       "P Raj                  1\n",
       "SS Agarwal             1\n",
       "MK Tiwary              1\n",
       "V Chakravarthy         1\n",
       "A Roy                  1\n",
       "S Rutherford           1\n",
       "MJ Henry               1\n",
       "SS Sarkar              1\n",
       "D Salunkhe             1\n",
       "AA Jhunjhunwala        1\n",
       "GH Vihari              1\n",
       "Harmeet Singh (2)      1\n",
       "AJ Finch               1\n",
       "LA Carseldine          1\n",
       "BMAJ Mendis            1\n",
       "CL White               1\n",
       "GR Napier              1\n",
       "T Henderson            1\n",
       "AC Gilchrist           1\n",
       "JDS Neesham            1\n",
       "LMP Simmons            1\n",
       "D Short                1\n",
       "PM Sarvesh Kumar       1\n",
       "A Nel                  1\n",
       "B Geeves               1\n",
       "RG More                1\n",
       "CJ McKay               1\n",
       "GS Sandhu              1\n",
       "S Vidyut               1\n",
       "DB Ravi Teja           1\n",
       "AM Rahane              1\n",
       "SB Joshi               1\n",
       "TP Sudhindra           1\n",
       "Name: count, dtype: int64"
      ]
     },
     "execution_count": 246,
     "metadata": {},
     "output_type": "execute_result"
    }
   ],
   "source": [
    "a['bowler'].value_counts()"
   ]
  },
  {
   "cell_type": "markdown",
   "id": "badb44cf",
   "metadata": {},
   "source": [
    "### 13.What is the strike rate of Kohli in 2016\n",
    "\n",
    "HINT: strike rate = (Total Runs / Total Balls Faced) * 100"
   ]
  },
  {
   "cell_type": "code",
   "execution_count": 189,
   "id": "cc85ab2d",
   "metadata": {},
   "outputs": [],
   "source": [
    "season_2016 = df[df['season']==2016]"
   ]
  },
  {
   "cell_type": "code",
   "execution_count": 195,
   "id": "282e2720",
   "metadata": {},
   "outputs": [],
   "source": [
    "virat = season_2016[season_2016['batsman']=='V Kohli']"
   ]
  },
  {
   "cell_type": "code",
   "execution_count": 206,
   "id": "76f9b3c1",
   "metadata": {},
   "outputs": [
    {
     "data": {
      "text/plain": [
       "973"
      ]
     },
     "execution_count": 206,
     "metadata": {},
     "output_type": "execute_result"
    }
   ],
   "source": [
    "runs = virat.iloc[:,31].sum()\n",
    "runs"
   ]
  },
  {
   "cell_type": "code",
   "execution_count": 205,
   "id": "2f36cf5e",
   "metadata": {},
   "outputs": [
    {
     "data": {
      "text/plain": [
       "148.54961832061068"
      ]
     },
     "execution_count": 205,
     "metadata": {},
     "output_type": "execute_result"
    }
   ],
   "source": [
    "strike_rate = runs/len(virat)*100\n",
    "strike_rate"
   ]
  },
  {
   "cell_type": "markdown",
   "id": "ede4a8a6",
   "metadata": {},
   "source": [
    "### 14.  Bowlers with maximum number of extras:\n"
   ]
  },
  {
   "cell_type": "code",
   "execution_count": 213,
   "id": "eaabd83b",
   "metadata": {},
   "outputs": [],
   "source": [
    "bowlers = df.groupby(by=\"bowler\")['extra_runs'].sum()"
   ]
  },
  {
   "cell_type": "code",
   "execution_count": 214,
   "id": "2576b123",
   "metadata": {},
   "outputs": [
    {
     "data": {
      "text/plain": [
       "bowler\n",
       "SL Malinga    293\n",
       "P Kumar       236\n",
       "UT Yadav      219\n",
       "DJ Bravo      201\n",
       "B Kumar       197\n",
       "Name: extra_runs, dtype: int64"
      ]
     },
     "execution_count": 214,
     "metadata": {},
     "output_type": "execute_result"
    }
   ],
   "source": [
    "bowers.nlargest()"
   ]
  },
  {
   "cell_type": "markdown",
   "id": "a8b103fe",
   "metadata": {},
   "source": [
    "### 15. Which venue has hosted most number of IPL matches?\n"
   ]
  },
  {
   "cell_type": "code",
   "execution_count": 216,
   "id": "68a5b115",
   "metadata": {},
   "outputs": [
    {
     "data": {
      "text/plain": [
       "venue\n",
       "Eden Gardens                                            17991\n",
       "Wankhede Stadium                                        17590\n",
       "M Chinnaswamy Stadium                                   16872\n",
       "Feroz Shah Kotla                                        15604\n",
       "Rajiv Gandhi International Stadium, Uppal               13303\n",
       "MA Chidambaram Stadium, Chepauk                         12006\n",
       "Sawai Mansingh Stadium                                  11158\n",
       "Punjab Cricket Association Stadium, Mohali               8266\n",
       "Maharashtra Cricket Association Stadium                  5055\n",
       "Subrata Roy Sahara Stadium                               4064\n",
       "Dr DY Patil Sports Academy                               3993\n",
       "Kingsmead                                                3643\n",
       "Punjab Cricket Association IS Bindra Stadium, Mohali     3315\n",
       "Sardar Patel Stadium, Motera                             2893\n",
       "SuperSport Park                                          2866\n",
       "Brabourne Stadium                                        2719\n",
       "Dr. Y.S. Rajasekhara Reddy ACA-VDCA Cricket Stadium      2546\n",
       "Saurashtra Cricket Association Stadium                   2381\n",
       "Himachal Pradesh Cricket Association Stadium             2159\n",
       "Holkar Cricket Stadium                                   1965\n",
       "New Wanderers Stadium                                    1940\n",
       "Rajiv Gandhi Intl. Cricket Stadium                       1912\n",
       "M. A. Chidambaram Stadium                                1889\n",
       "Feroz Shah Kotla Ground                                  1701\n",
       "Dubai International Cricket Stadium                      1700\n",
       "Barabati Stadium                                         1695\n",
       "IS Bindra Stadium                                        1690\n",
       "St George's Park                                         1677\n",
       "JSCA International Stadium Complex                       1671\n",
       "Sheikh Zayed Stadium                                     1624\n",
       "Newlands                                                 1539\n",
       "M. Chinnaswamy Stadium                                   1531\n",
       "Sharjah Cricket Stadium                                  1439\n",
       "Shaheed Veer Narayan Singh International Stadium         1431\n",
       "Nehru Stadium                                            1155\n",
       "Green Park                                                921\n",
       "Vidarbha Cricket Association Stadium, Jamtha              742\n",
       "De Beers Diamond Oval                                     726\n",
       "Buffalo Park                                              715\n",
       "OUTsurance Oval                                           500\n",
       "ACA-VDCA Stadium                                          491\n",
       "Name: count, dtype: int64"
      ]
     },
     "execution_count": 216,
     "metadata": {},
     "output_type": "execute_result"
    }
   ],
   "source": [
    "df.venue.value_counts()"
   ]
  },
  {
   "cell_type": "markdown",
   "id": "09163bf7",
   "metadata": {},
   "source": [
    "### 16. In 2017 when sunrisers hyderabad clashed against Royal Challengers Bangalore which team player won player of the match?"
   ]
  },
  {
   "cell_type": "code",
   "execution_count": 217,
   "id": "4b1ecc7e",
   "metadata": {},
   "outputs": [],
   "source": [
    "season_2017 = df[df['season']==2017]"
   ]
  },
  {
   "cell_type": "code",
   "execution_count": 223,
   "id": "bb2477aa",
   "metadata": {},
   "outputs": [
    {
     "data": {
      "text/plain": [
       "'Yuvraj Singh'"
      ]
     },
     "execution_count": 223,
     "metadata": {},
     "output_type": "execute_result"
    }
   ],
   "source": [
    "season_2017[season_2017['winner']=='Sunrisers Hyderabad']['player_of_match'][0]"
   ]
  },
  {
   "cell_type": "markdown",
   "id": "c1412915",
   "metadata": {},
   "source": [
    "### 17. Across seasons who are the top three batsman's with most number of run out?"
   ]
  },
  {
   "cell_type": "code",
   "execution_count": 285,
   "id": "de241484",
   "metadata": {},
   "outputs": [],
   "source": [
    "out = df1[df1['dismissal_kind'] == 'run out']"
   ]
  },
  {
   "cell_type": "code",
   "execution_count": 288,
   "id": "211dc59c",
   "metadata": {},
   "outputs": [
    {
     "data": {
      "text/plain": [
       "batsman\n",
       "MS Dhoni      21\n",
       "RG Sharma     17\n",
       "KD Karthik    16\n",
       "Name: count, dtype: int64"
      ]
     },
     "execution_count": 288,
     "metadata": {},
     "output_type": "execute_result"
    }
   ],
   "source": [
    "out['batsman'].value_counts().nlargest(3)"
   ]
  },
  {
   "cell_type": "markdown",
   "id": "2db0fe4e",
   "metadata": {},
   "source": [
    "### 18. What are the total runs scored by V Kohli when the bowler was JJ Burmah?"
   ]
  },
  {
   "cell_type": "code",
   "execution_count": 263,
   "id": "e868e163",
   "metadata": {},
   "outputs": [],
   "source": [
    "virat_burmah = df[(df['batsman'] == 'V Kohli') & (df['bowler']=='JJ Bumrah')]"
   ]
  },
  {
   "cell_type": "code",
   "execution_count": 264,
   "id": "70f20152",
   "metadata": {},
   "outputs": [
    {
     "data": {
      "text/plain": [
       "112"
      ]
     },
     "execution_count": 264,
     "metadata": {},
     "output_type": "execute_result"
    }
   ],
   "source": [
    "virat_burmah['batsman_runs'].sum()"
   ]
  },
  {
   "cell_type": "markdown",
   "id": "8cbcf978",
   "metadata": {},
   "source": [
    "### 19. Across all seasons which player was dismissed the maximum number of times via caught and bowled"
   ]
  },
  {
   "cell_type": "code",
   "execution_count": 265,
   "id": "fa0df40b",
   "metadata": {},
   "outputs": [
    {
     "data": {
      "text/plain": [
       "player_dismissed\n",
       "SK Raina                7\n",
       "RG Sharma               6\n",
       "AT Rayudu               5\n",
       "RA Jadeja               5\n",
       "R Dravid                5\n",
       "AM Rahane               5\n",
       "G Gambhir               4\n",
       "M Vohra                 4\n",
       "KC Sangakkara           4\n",
       "MS Dhoni                4\n",
       "RV Uthappa              3\n",
       "MC Henriques            3\n",
       "PA Patel                3\n",
       "KD Karthik              3\n",
       "CL White                3\n",
       "S Badrinath             3\n",
       "YK Pathan               3\n",
       "JP Duminy               3\n",
       "SE Marsh                3\n",
       "M Vijay                 3\n",
       "AL Menaria              2\n",
       "SPD Smith               2\n",
       "LRPL Taylor             2\n",
       "V Sehwag                2\n",
       "J Botha                 2\n",
       "DJ Bravo                2\n",
       "CJ Ferguson             2\n",
       "Gurkeerat Singh         2\n",
       "DH Yagnik               2\n",
       "R Bhatia                2\n",
       "AC Gilchrist            2\n",
       "DA Warner               2\n",
       "TL Suman                2\n",
       "AD Russell              2\n",
       "KM Jadhav               2\n",
       "V Kohli                 2\n",
       "N Saini                 2\n",
       "F du Plessis            2\n",
       "S Dhawan                2\n",
       "SR Tendulkar            2\n",
       "SV Samson               2\n",
       "BA Stokes               2\n",
       "VVS Laxman              2\n",
       "S Nadeem                2\n",
       "Rashid Khan             2\n",
       "SS Iyer                 2\n",
       "AJ Finch                2\n",
       "CH Gayle                2\n",
       "MK Pandey               2\n",
       "M Kartik                2\n",
       "Yuvraj Singh            2\n",
       "DPMD Jayawardene        2\n",
       "Parvez Rasool           1\n",
       "Harpreet Singh          1\n",
       "JP Faulkner             1\n",
       "DW Steyn                1\n",
       "AP Majumdar             1\n",
       "BB McCullum             1\n",
       "SA Yadav                1\n",
       "Sachin Baby             1\n",
       "Sandeep Sharma          1\n",
       "BMAJ Mendis             1\n",
       "KK Nair                 1\n",
       "AP Tare                 1\n",
       "MA Agarwal              1\n",
       "Azhar Mahmood           1\n",
       "AB McDonald             1\n",
       "RT Ponting              1\n",
       "NV Ojha                 1\n",
       "X Thalaivan Sargunam    1\n",
       "GJ Maxwell              1\n",
       "DR Smith                1\n",
       "KW Richardson           1\n",
       "DB Das                  1\n",
       "Q de Kock               1\n",
       "Mandeep Singh           1\n",
       "Shakib Al Hasan         1\n",
       "JD Ryder                1\n",
       "DL Vettori              1\n",
       "HH Gibbs                1\n",
       "RP Singh                1\n",
       "JA Morkel               1\n",
       "P Kumar                 1\n",
       "A Flintoff              1\n",
       "M Rawat                 1\n",
       "Z Khan                  1\n",
       "I Sharma                1\n",
       "D Salunkhe              1\n",
       "M Kaif                  1\n",
       "LA Pomersbach           1\n",
       "ST Jayasuriya           1\n",
       "LMP Simmons             1\n",
       "CJ Jordan               1\n",
       "CR Brathwaite           1\n",
       "SP Narine               1\n",
       "CH Morris               1\n",
       "HM Amla                 1\n",
       "AR Patel                1\n",
       "JDP Oram                1\n",
       "PR Shah                 1\n",
       "Anirudh Singh           1\n",
       "GC Smith                1\n",
       "Y Gnaneswara Rao        1\n",
       "DS Kulkarni             1\n",
       "A Singh                 1\n",
       "SS Tiwary               1\n",
       "M Manhas                1\n",
       "SR Watson               1\n",
       "A Mishra                1\n",
       "DB Ravi Teja            1\n",
       "Joginder Sharma         1\n",
       "AB de Villiers          1\n",
       "JH Kallis               1\n",
       "R Ashwin                1\n",
       "SC Ganguly              1\n",
       "AB Agarkar              1\n",
       "ML Hayden               1\n",
       "IK Pathan               1\n",
       "MK Tiwary               1\n",
       "JC Buttler              1\n",
       "Name: count, dtype: int64"
      ]
     },
     "execution_count": 265,
     "metadata": {},
     "output_type": "execute_result"
    }
   ],
   "source": [
    "df1[df1['dismissal_kind'] == 'caught and bowled']['player_dismissed'].value_counts()"
   ]
  },
  {
   "cell_type": "markdown",
   "id": "e6c3651a",
   "metadata": {},
   "source": [
    "### 20. which player has the highest hard-hitting ability?"
   ]
  },
  {
   "cell_type": "code",
   "execution_count": 269,
   "id": "613364dc",
   "metadata": {},
   "outputs": [
    {
     "data": {
      "text/plain": [
       "batsman\n",
       "CH Gayle             327\n",
       "AB de Villiers       214\n",
       "MS Dhoni             207\n",
       "SK Raina             195\n",
       "RG Sharma            194\n",
       "V Kohli              191\n",
       "DA Warner            181\n",
       "SR Watson            177\n",
       "KA Pollard           175\n",
       "YK Pathan            161\n",
       "RV Uthappa           156\n",
       "Yuvraj Singh         149\n",
       "BB McCullum          129\n",
       "AT Rayudu            120\n",
       "AD Russell           119\n",
       "DR Smith             117\n",
       "V Sehwag             106\n",
       "KD Karthik           101\n",
       "S Dhawan              96\n",
       "RR Pant               94\n",
       "AC Gilchrist          92\n",
       "M Vijay               91\n",
       "GJ Maxwell            91\n",
       "SV Samson             89\n",
       "DA Miller             87\n",
       "KL Rahul              81\n",
       "NV Ojha               79\n",
       "JP Duminy             79\n",
       "SE Marsh              78\n",
       "MK Pandey             76\n",
       "AM Rahane             74\n",
       "HH Pandya             69\n",
       "SS Iyer               67\n",
       "AJ Finch              67\n",
       "RA Jadeja             65\n",
       "CA Lynn               62\n",
       "JC Buttler            61\n",
       "DJ Bravo              60\n",
       "N Rana                60\n",
       "DJ Hussey             60\n",
       "WP Saha               59\n",
       "G Gambhir             59\n",
       "F du Plessis          59\n",
       "JA Morkel             55\n",
       "Q de Kock             54\n",
       "MEK Hussey            52\n",
       "MA Agarwal            52\n",
       "PA Patel              49\n",
       "SPD Smith             49\n",
       "LRPL Taylor           46\n",
       "SS Tiwary             45\n",
       "KS Williamson         44\n",
       "LMP Simmons           44\n",
       "JH Kallis             44\n",
       "ML Hayden             44\n",
       "SP Narine             44\n",
       "BJ Hodge              43\n",
       "SC Ganguly            42\n",
       "Harbhajan Singh       42\n",
       "A Symonds             41\n",
       "MK Tiwary             40\n",
       "DPMD Jayawardene      40\n",
       "KP Pietersen          40\n",
       "M Vohra               39\n",
       "ST Jayasuriya         39\n",
       "KK Nair               39\n",
       "KM Jadhav             38\n",
       "CL White              38\n",
       "IK Pathan             38\n",
       "Y Venugopal Rao       37\n",
       "KH Pandya             35\n",
       "STR Binny             35\n",
       "AR Patel              35\n",
       "Ishan Kishan          34\n",
       "EJG Morgan            34\n",
       "Mandeep Singh         33\n",
       "CJ Anderson           31\n",
       "HH Gibbs              31\n",
       "SR Tendulkar          29\n",
       "AD Mathews            29\n",
       "R Dravid              28\n",
       "S Badrinath           28\n",
       "AS Yadav              28\n",
       "CH Morris             27\n",
       "MC Henriques          27\n",
       "KC Sangakkara         27\n",
       "RA Tripathi           27\n",
       "E Lewis               26\n",
       "NLTC Perera           26\n",
       "TL Suman              26\n",
       "BA Stokes             25\n",
       "DJ Hooda              24\n",
       "TM Dilshan            24\n",
       "V Shankar             24\n",
       "JP Faulkner           23\n",
       "M Ali                 23\n",
       "MS Bisla              23\n",
       "OA Shah               23\n",
       "HM Amla               21\n",
       "SA Yadav              21\n",
       "AM Nayar              20\n",
       "PC Valthaty           20\n",
       "Shakib Al Hasan       20\n",
       "BCJ Cutting           19\n",
       "DT Christian          19\n",
       "GJ Bailey             19\n",
       "P Shaw                19\n",
       "JD Ryder              19\n",
       "PP Chawla             18\n",
       "S Sohal               18\n",
       "AL Menaria            18\n",
       "MP Stoinis            18\n",
       "DJG Sammy             18\n",
       "J Bairstow            18\n",
       "P Kumar               17\n",
       "C de Grandhomme       17\n",
       "LR Shukla             16\n",
       "CR Brathwaite         16\n",
       "RS Bopara             16\n",
       "P Negi                16\n",
       "DB Das                16\n",
       "A Ashish Reddy        15\n",
       "MJ Guptill            15\n",
       "RN ten Doeschate      15\n",
       "S Gill                15\n",
       "N Pooran              14\n",
       "KV Sharma             14\n",
       "MR Marsh              14\n",
       "Azhar Mahmood         13\n",
       "R Bhatia              13\n",
       "PD Collingwood        13\n",
       "MV Boucher            13\n",
       "LA Pomersbach         13\n",
       "JR Hopes              11\n",
       "Gurkeerat Singh       11\n",
       "SN Khan               11\n",
       "AP Tare               11\n",
       "SA Asnodkar           10\n",
       "K Gowtham             10\n",
       "R Ashwin              10\n",
       "M Manhas              10\n",
       "SW Billings           10\n",
       "MF Maharoof            9\n",
       "Ankit Sharma           9\n",
       "JEC Franklin           9\n",
       "Y Nagar                9\n",
       "R Vinay Kumar          9\n",
       "DB Ravi Teja           9\n",
       "K Goel                 9\n",
       "Rashid Khan            9\n",
       "Bipul Sharma           9\n",
       "UBT Chand              9\n",
       "HV Patel               9\n",
       "GC Smith               9\n",
       "MS Gony                8\n",
       "KK Cooper              8\n",
       "C Munro                8\n",
       "Kamran Akmal           8\n",
       "SM Katich              8\n",
       "SM Pollock             8\n",
       "MD Mishra              8\n",
       "B Lee                  8\n",
       "RE van der Merwe       8\n",
       "TM Head                8\n",
       "JJ Roy                 8\n",
       "S Rutherford           7\n",
       "Mohammad Nabi          7\n",
       "B Chipli               7\n",
       "MG Johnson             7\n",
       "MJ McClenaghan         7\n",
       "S Hetmyer              7\n",
       "MN Samuels             7\n",
       "S Anirudha             7\n",
       "AS Raut                7\n",
       "MJ Lumb                6\n",
       "A Hales                6\n",
       "DL Chahar              6\n",
       "CM Gautam              6\n",
       "Misbah-ul-Haq          6\n",
       "SK Warne               6\n",
       "M Kaif                 6\n",
       "Shahid Afridi          6\n",
       "R Sathish              6\n",
       "J Botha                5\n",
       "L Livingstone          5\n",
       "D Short                5\n",
       "M Morkel               5\n",
       "Sachin Baby            5\n",
       "DJ Harris              5\n",
       "BJ Rohrer              5\n",
       "JDP Oram               5\n",
       "P Dogra                5\n",
       "AA Jhunjhunwala        5\n",
       "SL Malinga             5\n",
       "Umar Gul               5\n",
       "R Parag                5\n",
       "C Ingram               5\n",
       "B Akhil                5\n",
       "A Mishra               5\n",
       "AB Agarkar             5\n",
       "VVS Laxman             5\n",
       "RE Levi                4\n",
       "DJ Jacobs              4\n",
       "J Archer               4\n",
       "PJ Cummins             4\n",
       "Washington Sundar      4\n",
       "MM Sharma              4\n",
       "AJ Tye                 4\n",
       "D Wiese                4\n",
       "NM Coulter-Nile        4\n",
       "R Dhawan               4\n",
       "UT Yadav               4\n",
       "TG Southee             4\n",
       "CA Pujara              4\n",
       "AB McDonald            4\n",
       "DW Steyn               3\n",
       "YV Takawale            3\n",
       "SB Styris              3\n",
       "M Santner              3\n",
       "WPUJC Vaas             3\n",
       "RR Rossouw             3\n",
       "S Vidyut               3\n",
       "SB Bangar              3\n",
       "W Jaffer               3\n",
       "LJ Wright              3\n",
       "B Kumar                3\n",
       "UT Khawaja             3\n",
       "R Tewatia              3\n",
       "AC Voges               3\n",
       "S Curran               3\n",
       "R Sharma               3\n",
       "RJ Quiney              3\n",
       "SP Fleming             3\n",
       "S Dube                 3\n",
       "SP Goswami             3\n",
       "RJ Harris              3\n",
       "R Singh                2\n",
       "AD Nath                2\n",
       "I Sharma               2\n",
       "DH Yagnik              2\n",
       "R Rampaul              2\n",
       "BB Samantray           2\n",
       "K Rabada               2\n",
       "Mohammad Hafeez        2\n",
       "R Bishnoi              2\n",
       "DL Vettori             2\n",
       "J Suchith              2\n",
       "DS Kulkarni            2\n",
       "PR Shah                2\n",
       "RT Ponting             2\n",
       "Z Khan                 2\n",
       "VR Aaron               2\n",
       "A Flintoff             2\n",
       "Mohammed Shami         2\n",
       "AUK Pathan             2\n",
       "SD Chitnis             2\n",
       "TR Birt                2\n",
       "ER Dwivedi             2\n",
       "KC Cariappa            2\n",
       "CR Woakes              2\n",
       "Salman Butt            2\n",
       "JO Holder              2\n",
       "Joginder Sharma        2\n",
       "AC Blizzard            2\n",
       "DJ Thornely            2\n",
       "PA Reddy               2\n",
       "AP Majumdar            2\n",
       "H Klaasen              1\n",
       "S Gopal                1\n",
       "Iqbal Abdulla          1\n",
       "Anureet Singh          1\n",
       "SD Lad                 1\n",
       "SN Thakur              1\n",
       "KJ Abbott              1\n",
       "P Sahu                 1\n",
       "Mohammed Siraj         1\n",
       "JD Unadkat             1\n",
       "J Searles              1\n",
       "SA Abbott              1\n",
       "K Paul                 1\n",
       "D Shorey               1\n",
       "S Singh                1\n",
       "H Brar                 1\n",
       "RP Singh               1\n",
       "VH Zol                 1\n",
       "S Rana                 1\n",
       "SW Tait                1\n",
       "FY Fazal               1\n",
       "L Balaji               1\n",
       "JM Kemp                1\n",
       "RR Raje                1\n",
       "MN van Wyk             1\n",
       "T Henderson            1\n",
       "RR Powar               1\n",
       "Niraj Patel            1\n",
       "LPC Silva              1\n",
       "Sohail Tanvir          1\n",
       "M Rawat                1\n",
       "AD Mascarenhas         1\n",
       "RR Sarwan              1\n",
       "L Ronchi               1\n",
       "MA Khote               1\n",
       "T Kohli                1\n",
       "JJ Bumrah              1\n",
       "Ankit Soni             1\n",
       "Basil Thampi           1\n",
       "Vishnu Vinod           1\n",
       "A Choudhary            1\n",
       "TS Mills               1\n",
       "SK Trivedi             1\n",
       "AB Barath              1\n",
       "AP Dole                1\n",
       "AN Ahmed               1\n",
       "JDS Neesham            1\n",
       "KW Richardson          1\n",
       "KB Arun Karthik        1\n",
       "GH Vihari              1\n",
       "MC Juneja              1\n",
       "K Upadhyay             1\n",
       "AC Thomas              1\n",
       "RJ Peterson            1\n",
       "BA Bhatt               1\n",
       "M Kartik               1\n",
       "CK Langeveldt          1\n",
       "DE Bollinger           1\n",
       "A Mithun               1\n",
       "WD Parnell             1\n",
       "NL McCullum            1\n",
       "BJ Haddin              1\n",
       "RV Gomez               1\n",
       "JJ van der Wath        1\n",
       "Sunny Singh            1\n",
       "R McLaren              1\n",
       "Anirudh Singh          1\n",
       "A Nehra                1\n",
       "TA Boult               1\n",
       "Name: count, dtype: int64"
      ]
     },
     "execution_count": 269,
     "metadata": {},
     "output_type": "execute_result"
    }
   ],
   "source": [
    "df[df['batsman_runs'] == 6]['batsman'].value_counts()"
   ]
  },
  {
   "cell_type": "code",
   "execution_count": null,
   "id": "9694f42d",
   "metadata": {},
   "outputs": [],
   "source": []
  }
 ],
 "metadata": {
  "kernelspec": {
   "display_name": "Python 3 (ipykernel)",
   "language": "python",
   "name": "python3"
  },
  "language_info": {
   "codemirror_mode": {
    "name": "ipython",
    "version": 3
   },
   "file_extension": ".py",
   "mimetype": "text/x-python",
   "name": "python",
   "nbconvert_exporter": "python",
   "pygments_lexer": "ipython3",
   "version": "3.11.4"
  }
 },
 "nbformat": 4,
 "nbformat_minor": 5
}
